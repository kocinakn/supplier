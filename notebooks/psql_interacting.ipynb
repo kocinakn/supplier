{
 "cells": [
  {
   "cell_type": "code",
   "execution_count": 8,
   "id": "98d899f5-4018-4c42-bd0b-b5e9917f700d",
   "metadata": {},
   "outputs": [],
   "source": [
    "from tools import data_preparation as dp\n",
    "from tools import connections\n",
    "from postgres import executions\n",
    "from postgres import modifications\n",
    "\n",
    "import pandas as pd\n",
    "import numpy as np\n",
    "import requests\n",
    "import time\n",
    "import datetime\n",
    "import os\n",
    "import sys\n",
    "\n",
    "import warnings\n",
    "warnings.filterwarnings(\"ignore\")\n",
    "pd.set_option('display.max_columns', None)"
   ]
  },
  {
   "cell_type": "code",
   "execution_count": 10,
   "id": "f980d2e9-058d-44a0-8e72-a5f44b8df0ba",
   "metadata": {},
   "outputs": [],
   "source": [
    "q = \"select * from wallets_chains\""
   ]
  },
  {
   "cell_type": "code",
   "execution_count": 11,
   "id": "e9966486-6e79-4bae-8bbc-34f71c6e83c2",
   "metadata": {},
   "outputs": [],
   "source": [
    "df = pd.read_sql_query(q, con=connections.connect_postgres())"
   ]
  },
  {
   "cell_type": "code",
   "execution_count": 12,
   "id": "c80c7348-79e1-42b1-997e-46c48bff6aad",
   "metadata": {},
   "outputs": [
    {
     "data": {
      "text/html": [
       "<div>\n",
       "<style scoped>\n",
       "    .dataframe tbody tr th:only-of-type {\n",
       "        vertical-align: middle;\n",
       "    }\n",
       "\n",
       "    .dataframe tbody tr th {\n",
       "        vertical-align: top;\n",
       "    }\n",
       "\n",
       "    .dataframe thead th {\n",
       "        text-align: right;\n",
       "    }\n",
       "</style>\n",
       "<table border=\"1\" class=\"dataframe\">\n",
       "  <thead>\n",
       "    <tr style=\"text-align: right;\">\n",
       "      <th></th>\n",
       "      <th>chain_id</th>\n",
       "      <th>chain_name</th>\n",
       "    </tr>\n",
       "  </thead>\n",
       "  <tbody>\n",
       "    <tr>\n",
       "      <th>0</th>\n",
       "      <td>matic</td>\n",
       "      <td>Polygon</td>\n",
       "    </tr>\n",
       "    <tr>\n",
       "      <th>1</th>\n",
       "      <td>bsc</td>\n",
       "      <td>BSC</td>\n",
       "    </tr>\n",
       "    <tr>\n",
       "      <th>2</th>\n",
       "      <td>eth</td>\n",
       "      <td>Ethereum</td>\n",
       "    </tr>\n",
       "    <tr>\n",
       "      <th>3</th>\n",
       "      <td>arb</td>\n",
       "      <td>Arbitrum</td>\n",
       "    </tr>\n",
       "    <tr>\n",
       "      <th>4</th>\n",
       "      <td>op</td>\n",
       "      <td>Optimism</td>\n",
       "    </tr>\n",
       "  </tbody>\n",
       "</table>\n",
       "</div>"
      ],
      "text/plain": [
       "  chain_id chain_name\n",
       "0    matic    Polygon\n",
       "1      bsc        BSC\n",
       "2      eth   Ethereum\n",
       "3      arb   Arbitrum\n",
       "4       op   Optimism"
      ]
     },
     "execution_count": 12,
     "metadata": {},
     "output_type": "execute_result"
    }
   ],
   "source": [
    "df.head()"
   ]
  },
  {
   "cell_type": "code",
   "execution_count": 13,
   "id": "bc15034c-6154-4716-8090-7b85a51d3498",
   "metadata": {},
   "outputs": [],
   "source": [
    "df.columns = ['response', 'description']"
   ]
  },
  {
   "cell_type": "code",
   "execution_count": 14,
   "id": "269d8b1b-2a36-41a1-9266-a13e4620ec62",
   "metadata": {},
   "outputs": [],
   "source": [
    "modifications.save_dataframe_in_postgres(df, 'wallets_responses_dictionary', 'append')"
   ]
  },
  {
   "cell_type": "code",
   "execution_count": 7,
   "id": "374df24f-2696-4868-a068-651bd11b48f9",
   "metadata": {},
   "outputs": [
    {
     "data": {
      "text/plain": [
       "coin                                                    HTT\n",
       "name                                              Hello Art\n",
       "ban                                                    True\n",
       "gem                                                   False\n",
       "checked                                                True\n",
       "platform                                 banned(no_twitter)\n",
       "category                                 banned(no_twitter)\n",
       "last_tweet                              2022-08-18 03:10:59\n",
       "twitter                https://www.twitter.com/helloart_HTT\n",
       "cg             https://www.coingecko.com/en/coins/hello-art\n",
       "price                                              0.000709\n",
       "ath                                                0.036376\n",
       "ath_perc                                             -98.05\n",
       "ath_date                                2022-08-11 05:14:51\n",
       "mcap                                                      0\n",
       "fdv                                                14197989\n",
       "mcapfdv                                                 0.0\n",
       "circ                                                      0\n",
       "total                                           20000000000\n",
       "circtotal                                               0.0\n",
       "api_id                                            hello-art\n",
       "date                                    2022-11-28 15:39:01\n",
       "update_date                             2023-01-02 23:43:17\n",
       "is_active                                             False\n",
       "Name: 157, dtype: object"
      ]
     },
     "metadata": {},
     "output_type": "display_data"
    },
    {
     "name": "stdout",
     "output_type": "stream",
     "text": [
      "https://www.coingecko.com/en/coins/hello-art\n"
     ]
    },
    {
     "data": {
      "text/plain": [
       "coin                                                 SOCKS\n",
       "name                                              Unisocks\n",
       "ban                                                   True\n",
       "gem                                                  False\n",
       "checked                                               True\n",
       "platform                                banned(no_twitter)\n",
       "category                                banned(no_twitter)\n",
       "last_tweet                                            None\n",
       "twitter            https://www.twitter.com/UniswapProtocol\n",
       "cg             https://www.coingecko.com/en/coins/unisocks\n",
       "price                                              20934.0\n",
       "ath                                               198759.0\n",
       "ath_perc                                           -89.472\n",
       "ath_date                               2021-08-09 18:02:29\n",
       "mcap                                               6300935\n",
       "fdv                                                6300935\n",
       "mcapfdv                                                1.0\n",
       "circ                                                   300\n",
       "total                                                  300\n",
       "circtotal                                              1.0\n",
       "api_id                                            unisocks\n",
       "date                                   2022-11-27 17:19:41\n",
       "update_date                            2022-11-27 19:22:05\n",
       "is_active                                            False\n",
       "Name: 158, dtype: object"
      ]
     },
     "metadata": {},
     "output_type": "display_data"
    },
    {
     "name": "stdout",
     "output_type": "stream",
     "text": [
      "https://www.coingecko.com/en/coins/unisocks\n"
     ]
    },
    {
     "data": {
      "text/plain": [
       "coin                                                   JFIN\n",
       "name                                              JFIN Coin\n",
       "ban                                                    True\n",
       "gem                                                   False\n",
       "checked                                                True\n",
       "platform                                 banned(no_twitter)\n",
       "category                                 banned(no_twitter)\n",
       "last_tweet                                             None\n",
       "twitter                    https://www.twitter.com/JFinCoin\n",
       "cg             https://www.coingecko.com/en/coins/jfin-coin\n",
       "price                                              0.495966\n",
       "ath                                                    7.14\n",
       "ath_perc                                            -93.051\n",
       "ath_date                                2021-11-30 01:28:56\n",
       "mcap                                                      0\n",
       "fdv                                                       0\n",
       "mcapfdv                                                 0.0\n",
       "circ                                                      0\n",
       "total                                                     0\n",
       "circtotal                                               0.0\n",
       "api_id                                            jfin-coin\n",
       "date                                    2022-11-28 00:52:02\n",
       "update_date                             2022-11-28 03:51:42\n",
       "is_active                                             False\n",
       "Name: 159, dtype: object"
      ]
     },
     "metadata": {},
     "output_type": "display_data"
    },
    {
     "name": "stdout",
     "output_type": "stream",
     "text": [
      "https://www.coingecko.com/en/coins/jfin-coin\n"
     ]
    },
    {
     "data": {
      "text/plain": [
       "coin                                                        SAND\n",
       "name                                              San Diego Coin\n",
       "ban                                                         True\n",
       "gem                                                        False\n",
       "checked                                                     True\n",
       "platform                                      banned(no_twitter)\n",
       "category                                      banned(no_twitter)\n",
       "last_tweet                                                  None\n",
       "twitter                                 https://www.twitter.com/\n",
       "cg             https://www.coingecko.com/en/coins/san-diego-coin\n",
       "price                                                   0.000851\n",
       "ath                                                     0.006525\n",
       "ath_perc                                                 -86.955\n",
       "ath_date                                     2021-03-01 18:39:10\n",
       "mcap                                                           0\n",
       "fdv                                                            0\n",
       "mcapfdv                                                      0.0\n",
       "circ                                                           0\n",
       "total                                                          0\n",
       "circtotal                                                    0.0\n",
       "api_id                                            san-diego-coin\n",
       "date                                         2022-11-28 00:52:03\n",
       "update_date                                  2022-11-28 06:23:25\n",
       "is_active                                                  False\n",
       "Name: 160, dtype: object"
      ]
     },
     "metadata": {},
     "output_type": "display_data"
    },
    {
     "name": "stdout",
     "output_type": "stream",
     "text": [
      "https://www.coingecko.com/en/coins/san-diego-coin\n"
     ]
    },
    {
     "data": {
      "text/plain": [
       "coin                                                     BB\n",
       "name                                              BB Gaming\n",
       "ban                                                    True\n",
       "gem                                                   False\n",
       "checked                                                True\n",
       "platform                                 banned(no_twitter)\n",
       "category                                 banned(no_twitter)\n",
       "last_tweet                                             None\n",
       "twitter              https://www.twitter.com/bigbeansgaming\n",
       "cg             https://www.coingecko.com/en/coins/bb-gaming\n",
       "price                                              0.000004\n",
       "ath                                                0.006924\n",
       "ath_perc                                            -99.935\n",
       "ath_date                                2022-05-06 03:09:55\n",
       "mcap                                                      0\n",
       "fdv                                                    4491\n",
       "mcapfdv                                                 0.0\n",
       "circ                                                      0\n",
       "total                                            1000000000\n",
       "circtotal                                               0.0\n",
       "api_id                                            bb-gaming\n",
       "date                                    2022-11-26 21:45:52\n",
       "update_date                             2022-11-26 21:54:41\n",
       "is_active                                             False\n",
       "Name: 161, dtype: object"
      ]
     },
     "metadata": {},
     "output_type": "display_data"
    },
    {
     "name": "stdout",
     "output_type": "stream",
     "text": [
      "https://www.coingecko.com/en/coins/bb-gaming\n"
     ]
    },
    {
     "data": {
      "text/plain": [
       "coin                                              JIGSAW\n",
       "name                                              Jigsaw\n",
       "ban                                                 True\n",
       "gem                                                False\n",
       "checked                                             True\n",
       "platform                              banned(no_twitter)\n",
       "category                              banned(no_twitter)\n",
       "last_tweet                                          None\n",
       "twitter             https://www.twitter.com/ghostfacebsc\n",
       "cg             https://www.coingecko.com/en/coins/jigsaw\n",
       "price                                                0.0\n",
       "ath                                                  0.0\n",
       "ath_perc                                         -91.564\n",
       "ath_date                             2021-06-15 13:16:35\n",
       "mcap                                                   0\n",
       "fdv                                                    0\n",
       "mcapfdv                                              0.0\n",
       "circ                                                   0\n",
       "total                                                  0\n",
       "circtotal                                            0.0\n",
       "api_id                                            jigsaw\n",
       "date                                 2022-11-28 00:52:02\n",
       "update_date                          2022-11-28 03:51:55\n",
       "is_active                                          False\n",
       "Name: 162, dtype: object"
      ]
     },
     "metadata": {},
     "output_type": "display_data"
    },
    {
     "name": "stdout",
     "output_type": "stream",
     "text": [
      "https://www.coingecko.com/en/coins/jigsaw\n"
     ]
    },
    {
     "data": {
      "text/plain": [
       "coin                                                  $SNOW\n",
       "name                                              Snowflake\n",
       "ban                                                    True\n",
       "gem                                                   False\n",
       "checked                                                True\n",
       "platform                                 banned(no_twitter)\n",
       "category                                 banned(no_twitter)\n",
       "last_tweet                              2022-11-28 07:46:17\n",
       "twitter              https://www.twitter.com/Snowflake_Defi\n",
       "cg             https://www.coingecko.com/en/coins/snowflake\n",
       "price                                              0.004489\n",
       "ath                                                0.004663\n",
       "ath_perc                                             -3.657\n",
       "ath_date                                2022-11-26 15:00:03\n",
       "mcap                                                      0\n",
       "fdv                                                 1797461\n",
       "mcapfdv                                                 0.0\n",
       "circ                                                      0\n",
       "total                                             400000000\n",
       "circtotal                                               0.0\n",
       "api_id                                            snowflake\n",
       "date                                    2022-11-28 18:40:57\n",
       "update_date                             2023-01-04 13:35:48\n",
       "is_active                                             False\n",
       "Name: 163, dtype: object"
      ]
     },
     "metadata": {},
     "output_type": "display_data"
    },
    {
     "name": "stdout",
     "output_type": "stream",
     "text": [
      "https://www.coingecko.com/en/coins/snowflake\n"
     ]
    },
    {
     "data": {
      "text/plain": [
       "coin                                                      SHUSKY\n",
       "name                                              Siberian Husky\n",
       "ban                                                         True\n",
       "gem                                                        False\n",
       "checked                                                     True\n",
       "platform                                      banned(no_twitter)\n",
       "category                                      banned(no_twitter)\n",
       "last_tweet                                                  None\n",
       "twitter                      https://www.twitter.com/SHUSKYTOKEN\n",
       "cg             https://www.coingecko.com/en/coins/siberian-husky\n",
       "price                                                        0.0\n",
       "ath                                                          0.0\n",
       "ath_perc                                                 -98.416\n",
       "ath_date                                     2021-06-27 18:24:32\n",
       "mcap                                                           0\n",
       "fdv                                                        62735\n",
       "mcapfdv                                                      0.0\n",
       "circ                                                           0\n",
       "total                                         100000000000000000\n",
       "circtotal                                                    0.0\n",
       "api_id                                            siberian-husky\n",
       "date                                         2022-11-27 14:57:46\n",
       "update_date                                  2022-11-27 17:13:32\n",
       "is_active                                                  False\n",
       "Name: 164, dtype: object"
      ]
     },
     "metadata": {},
     "output_type": "display_data"
    },
    {
     "name": "stdout",
     "output_type": "stream",
     "text": [
      "https://www.coingecko.com/en/coins/siberian-husky\n"
     ]
    },
    {
     "data": {
      "text/plain": [
       "coin                                                   SANTA\n",
       "name                                              Santaclaus\n",
       "ban                                                     True\n",
       "gem                                                    False\n",
       "checked                                                 True\n",
       "platform                                  banned(no_twitter)\n",
       "category                                  banned(no_twitter)\n",
       "last_tweet                                              None\n",
       "twitter                https://www.twitter.com/SolSantaclaus\n",
       "cg             https://www.coingecko.com/en/coins/santaclaus\n",
       "price                                                    0.0\n",
       "ath                                                 0.000045\n",
       "ath_perc                                             -99.131\n",
       "ath_date                                 2022-01-03 07:58:06\n",
       "mcap                                                       0\n",
       "fdv                                                     3873\n",
       "mcapfdv                                                  0.0\n",
       "circ                                                       0\n",
       "total                                            10000000000\n",
       "circtotal                                                0.0\n",
       "api_id                                            santaclaus\n",
       "date                                     2022-11-28 00:52:03\n",
       "update_date                              2022-11-28 06:23:47\n",
       "is_active                                              False\n",
       "Name: 165, dtype: object"
      ]
     },
     "metadata": {},
     "output_type": "display_data"
    },
    {
     "name": "stdout",
     "output_type": "stream",
     "text": [
      "https://www.coingecko.com/en/coins/santaclaus\n"
     ]
    },
    {
     "data": {
      "text/plain": [
       "coin                                              YEE\n",
       "name                                              Yee\n",
       "ban                                              True\n",
       "gem                                             False\n",
       "checked                                          True\n",
       "platform                           banned(no_twitter)\n",
       "category                           banned(no_twitter)\n",
       "last_tweet                                       None\n",
       "twitter              https://www.twitter.com/YeeToken\n",
       "cg             https://www.coingecko.com/en/coins/yee\n",
       "price                                        0.000066\n",
       "ath                                          0.058999\n",
       "ath_perc                                      -99.891\n",
       "ath_date                                   2018-01-24\n",
       "mcap                                           191955\n",
       "fdv                                                 0\n",
       "mcapfdv                                           0.0\n",
       "circ                                       2997614222\n",
       "total                                               0\n",
       "circtotal                                         0.0\n",
       "api_id                                            yee\n",
       "date                              2022-11-27 19:49:05\n",
       "update_date                       2022-11-27 22:24:53\n",
       "is_active                                       False\n",
       "Name: 166, dtype: object"
      ]
     },
     "metadata": {},
     "output_type": "display_data"
    },
    {
     "name": "stdout",
     "output_type": "stream",
     "text": [
      "https://www.coingecko.com/en/coins/yee\n"
     ]
    },
    {
     "data": {
      "text/plain": [
       "coin                                                     SANTA\n",
       "name                                                Santa Coin\n",
       "ban                                                       True\n",
       "gem                                                      False\n",
       "checked                                                   True\n",
       "platform                                    banned(no_twitter)\n",
       "category                                    banned(no_twitter)\n",
       "last_tweet                                                None\n",
       "twitter                    https://www.twitter.com/Santa_Coins\n",
       "cg             https://www.coingecko.com/en/coins/santa-coin-2\n",
       "price                                                      0.0\n",
       "ath                                                        0.0\n",
       "ath_perc                                               -98.706\n",
       "ath_date                                   2021-11-04 12:32:39\n",
       "mcap                                                         0\n",
       "fdv                                                          0\n",
       "mcapfdv                                                    0.0\n",
       "circ                                                         0\n",
       "total                                                        0\n",
       "circtotal                                                  0.0\n",
       "api_id                                            santa-coin-2\n",
       "date                                       2022-11-28 00:52:03\n",
       "update_date                                2022-11-28 06:23:59\n",
       "is_active                                                False\n",
       "Name: 167, dtype: object"
      ]
     },
     "metadata": {},
     "output_type": "display_data"
    },
    {
     "name": "stdout",
     "output_type": "stream",
     "text": [
      "https://www.coingecko.com/en/coins/santa-coin-2\n"
     ]
    },
    {
     "data": {
      "text/plain": [
       "coin                                                  BITCI\n",
       "name                                              Bitcicoin\n",
       "ban                                                    True\n",
       "gem                                                   False\n",
       "checked                                                True\n",
       "platform                                 banned(no_twitter)\n",
       "category                                 banned(no_twitter)\n",
       "last_tweet                                             None\n",
       "twitter                    https://www.twitter.com/bitcicom\n",
       "cg             https://www.coingecko.com/en/coins/bitcicoin\n",
       "price                                              0.003365\n",
       "ath                                                0.120568\n",
       "ath_perc                                            -97.235\n",
       "ath_date                                2021-04-06 07:29:06\n",
       "mcap                                               26055380\n",
       "fdv                                               336553966\n",
       "mcapfdv                                              0.0774\n",
       "circ                                             7741813343\n",
       "total                                          100000000000\n",
       "circtotal                                            0.0774\n",
       "api_id                                            bitcicoin\n",
       "date                                    2022-11-26 21:45:52\n",
       "update_date                             2022-11-26 21:55:23\n",
       "is_active                                             False\n",
       "Name: 168, dtype: object"
      ]
     },
     "metadata": {},
     "output_type": "display_data"
    },
    {
     "name": "stdout",
     "output_type": "stream",
     "text": [
      "https://www.coingecko.com/en/coins/bitcicoin\n"
     ]
    },
    {
     "data": {
      "text/plain": [
       "coin                                              SOV\n",
       "name                                              SOV\n",
       "ban                                              True\n",
       "gem                                             False\n",
       "checked                                          True\n",
       "platform                           banned(no_twitter)\n",
       "category                           banned(no_twitter)\n",
       "last_tweet                                       None\n",
       "twitter                      https://www.twitter.com/\n",
       "cg             https://www.coingecko.com/en/coins/sov\n",
       "price                                        0.002011\n",
       "ath                                          0.046933\n",
       "ath_perc                                      -95.716\n",
       "ath_date                          2022-06-13 20:32:05\n",
       "mcap                                                0\n",
       "fdv                                                 0\n",
       "mcapfdv                                           0.0\n",
       "circ                                                0\n",
       "total                                               0\n",
       "circtotal                                         0.0\n",
       "api_id                                            sov\n",
       "date                              2022-11-26 22:27:37\n",
       "update_date                       2022-11-27 00:08:17\n",
       "is_active                                       False\n",
       "Name: 169, dtype: object"
      ]
     },
     "metadata": {},
     "output_type": "display_data"
    },
    {
     "name": "stdout",
     "output_type": "stream",
     "text": [
      "https://www.coingecko.com/en/coins/sov\n"
     ]
    },
    {
     "data": {
      "text/plain": [
       "coin                                                  UTC\n",
       "name                                              Unitech\n",
       "ban                                                  True\n",
       "gem                                                 False\n",
       "checked                                              True\n",
       "platform                               banned(no_twitter)\n",
       "category                               banned(no_twitter)\n",
       "last_tweet                                           None\n",
       "twitter                          https://www.twitter.com/\n",
       "cg             https://www.coingecko.com/en/coins/unitech\n",
       "price                                               1.005\n",
       "ath                                                  1.49\n",
       "ath_perc                                          -32.829\n",
       "ath_date                              2022-04-08 18:15:51\n",
       "mcap                                                    0\n",
       "fdv                                              17701783\n",
       "mcapfdv                                               0.0\n",
       "circ                                                    0\n",
       "total                                            17619718\n",
       "circtotal                                             0.0\n",
       "api_id                                            unitech\n",
       "date                                  2022-11-27 17:19:41\n",
       "update_date                           2022-11-27 19:22:46\n",
       "is_active                                           False\n",
       "Name: 170, dtype: object"
      ]
     },
     "metadata": {},
     "output_type": "display_data"
    },
    {
     "name": "stdout",
     "output_type": "stream",
     "text": [
      "https://www.coingecko.com/en/coins/unitech\n"
     ]
    },
    {
     "ename": "KeyboardInterrupt",
     "evalue": "",
     "output_type": "error",
     "traceback": [
      "\u001b[1;31m---------------------------------------------------------------------------\u001b[0m",
      "\u001b[1;31mKeyboardInterrupt\u001b[0m                         Traceback (most recent call last)",
      "\u001b[1;32m~\\AppData\\Local\\Temp/ipykernel_18692/1431338141.py\u001b[0m in \u001b[0;36m<module>\u001b[1;34m\u001b[0m\n\u001b[0;32m      2\u001b[0m     \u001b[0mdisplay\u001b[0m\u001b[1;33m(\u001b[0m\u001b[0mdf\u001b[0m\u001b[1;33m.\u001b[0m\u001b[0mloc\u001b[0m\u001b[1;33m[\u001b[0m\u001b[0mindex\u001b[0m \u001b[1;33m+\u001b[0m \u001b[1;36m157\u001b[0m\u001b[1;33m,\u001b[0m \u001b[1;33m:\u001b[0m\u001b[1;33m]\u001b[0m\u001b[1;33m)\u001b[0m\u001b[1;33m\u001b[0m\u001b[1;33m\u001b[0m\u001b[0m\n\u001b[0;32m      3\u001b[0m     \u001b[0mprint\u001b[0m\u001b[1;33m(\u001b[0m\u001b[0mdf\u001b[0m\u001b[1;33m.\u001b[0m\u001b[0mloc\u001b[0m\u001b[1;33m[\u001b[0m\u001b[0mindex\u001b[0m \u001b[1;33m+\u001b[0m \u001b[1;36m157\u001b[0m\u001b[1;33m,\u001b[0m \u001b[1;34m'cg'\u001b[0m\u001b[1;33m]\u001b[0m\u001b[1;33m)\u001b[0m\u001b[1;33m\u001b[0m\u001b[1;33m\u001b[0m\u001b[0m\n\u001b[1;32m----> 4\u001b[1;33m     \u001b[0mtime\u001b[0m\u001b[1;33m.\u001b[0m\u001b[0msleep\u001b[0m\u001b[1;33m(\u001b[0m\u001b[1;36m120\u001b[0m\u001b[1;33m)\u001b[0m\u001b[1;33m\u001b[0m\u001b[1;33m\u001b[0m\u001b[0m\n\u001b[0m",
      "\u001b[1;31mKeyboardInterrupt\u001b[0m: "
     ]
    }
   ],
   "source": [
    "for index, row in df.iterrows():\n",
    "    display(df.loc[index + 157, :])\n",
    "    print(df.loc[index + 157, 'cg'])\n",
    "    time.sleep(120)"
   ]
  },
  {
   "cell_type": "markdown",
   "id": "56cf0c82-f6c3-4987-80cc-685a9bfb9e1c",
   "metadata": {},
   "source": [
    "<font size=\"6\">NON-MARKET TABLES</font>"
   ]
  },
  {
   "cell_type": "code",
   "execution_count": 2,
   "id": "7fa63234-a02c-4811-b9dd-78cfc6162e4f",
   "metadata": {},
   "outputs": [],
   "source": [
    "#df = executions.coingecko_listed_projects()\n",
    "#df = executions.twitter_accounts()\n",
    "#df = executions.wallets_activities()\n",
    "#df = executions.wallets_chains()\n",
    "#df = executions.wallets_methods()\n",
    "#df = executions.wallets_time_threshold()\n",
    "#df = executions.wallets_tracked()\n",
    "#df = executions.watchlist()"
   ]
  },
  {
   "cell_type": "markdown",
   "id": "26a5ecbc-7589-4bf9-a2a1-cae6b5c1bd5c",
   "metadata": {},
   "source": [
    "<font size=\"6\">MARKET TABLES</font>"
   ]
  },
  {
   "cell_type": "code",
   "execution_count": null,
   "id": "c4db53f8-8334-4317-97e3-d9f2b9007c06",
   "metadata": {},
   "outputs": [],
   "source": [
    "#df = executions.binance_futures_market()\n",
    "#df = executions.binance_futures_stats()\n",
    "#df = executions.binance_spot_market()\n",
    "#df = executions.binance_spot_stats()\n",
    "#df = executions.defi_dapps_market()\n",
    "#df = executions.defi_dapps_stats()\n",
    "#df = executions.defi_on_chain()\n",
    "#df = executions.kucoin_spot_market()\n",
    "#df = executions.kucoin_spot_stats()\n",
    "#df = executions.stablecoins_market()\n",
    "#df = executions.stablecoins_stats()\n",
    "#df = executions.tvl_per_chain_market()\n",
    "#df = executions.tvl_per_chain_stats()\n",
    "#df = executions.defi_dapps_market()"
   ]
  },
  {
   "cell_type": "code",
   "execution_count": null,
   "id": "d08e187d-53f9-439e-b8df-e796459cfcae",
   "metadata": {},
   "outputs": [],
   "source": [
    "df.head(10)"
   ]
  }
 ],
 "metadata": {
  "kernelspec": {
   "display_name": "Python 3 (ipykernel)",
   "language": "python",
   "name": "python3"
  },
  "language_info": {
   "codemirror_mode": {
    "name": "ipython",
    "version": 3
   },
   "file_extension": ".py",
   "mimetype": "text/x-python",
   "name": "python",
   "nbconvert_exporter": "python",
   "pygments_lexer": "ipython3",
   "version": "3.9.7"
  }
 },
 "nbformat": 4,
 "nbformat_minor": 5
}

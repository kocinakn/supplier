{
 "cells": [
  {
   "cell_type": "code",
   "execution_count": 1,
   "id": "19ecce19-3ab5-413a-80b8-56096b3486ae",
   "metadata": {},
   "outputs": [],
   "source": [
    "from myscripts import coingecko\n",
    "from myscripts import unlocks_report\n",
    "from tools import data_preparation as dp\n",
    "from tools import connections\n",
    "\n",
    "import pandas as pd\n",
    "import numpy as np\n",
    "import requests\n",
    "import datetime\n",
    "import os\n",
    "import sys\n",
    "\n",
    "import warnings\n",
    "warnings.filterwarnings(\"ignore\")\n",
    "pd.set_option('display.max_columns', None)\n",
    "pd.set_option('display.float_format', lambda x: '%.7f' % x)"
   ]
  },
  {
   "cell_type": "markdown",
   "id": "dade5add-4277-4070-a5ce-8368e60dde8b",
   "metadata": {},
   "source": [
    "<font size=\"6\">CG_NEW_PROJECTS</font>"
   ]
  },
  {
   "cell_type": "code",
   "execution_count": 2,
   "id": "c1d7a1ca-3e11-4e66-8fad-c8b5e384f22a",
   "metadata": {},
   "outputs": [],
   "source": [
    "save_in_db=True\n",
    "info_about_new=False"
   ]
  },
  {
   "cell_type": "code",
   "execution_count": 3,
   "id": "9668c073-a064-430e-9474-0ac40086648e",
   "metadata": {},
   "outputs": [
    {
     "name": "stdout",
     "output_type": "stream",
     "text": [
      "2023-10-21 20:42:38. CoinGecko new_api_ids started. Save in db: True. Info_about_new False\n",
      "2023-10-21 20:42:45. No new api_ids.\n",
      "2023-10-21 20:42:45. CoinGecko new_api_ids finished. Duration: 0:00:07.661156.\n"
     ]
    }
   ],
   "source": [
    "w = coingecko.CoingeckoListed(save_in_db, info_about_new)"
   ]
  },
  {
   "cell_type": "markdown",
   "id": "bba18792-a83c-49ac-b58c-53d5c5175b90",
   "metadata": {},
   "source": [
    "<font size=\"8\">UNLOCKS_REPORT</font>"
   ]
  },
  {
   "cell_type": "code",
   "execution_count": 4,
   "id": "0fc8c457-d960-4b8a-b733-2a3a24453a5c",
   "metadata": {},
   "outputs": [],
   "source": [
    "#unlocks_report.prepare_unlocks_df().head(20)"
   ]
  },
  {
   "cell_type": "code",
   "execution_count": 5,
   "id": "aaca8d6f-6473-41f3-bafa-f866c4a83c72",
   "metadata": {},
   "outputs": [
    {
     "data": {
      "text/plain": [
       "True"
      ]
     },
     "execution_count": 5,
     "metadata": {},
     "output_type": "execute_result"
    }
   ],
   "source": [
    "unlocks_report.open_unlocks_website()"
   ]
  },
  {
   "cell_type": "markdown",
   "id": "4d0b7e4c-7687-4639-82c1-f324949b1348",
   "metadata": {},
   "source": [
    "<font size=\"8\">RADAR</font>"
   ]
  },
  {
   "cell_type": "code",
   "execution_count": 6,
   "id": "a8f1fdc3-8b70-4eae-92cb-78120b66150c",
   "metadata": {},
   "outputs": [],
   "source": [
    "#pd.read_sql_query( \"select * from on_radar\", con=connections.connect_postgres())"
   ]
  }
 ],
 "metadata": {
  "kernelspec": {
   "display_name": "Python 3 (ipykernel)",
   "language": "python",
   "name": "python3"
  },
  "language_info": {
   "codemirror_mode": {
    "name": "ipython",
    "version": 3
   },
   "file_extension": ".py",
   "mimetype": "text/x-python",
   "name": "python",
   "nbconvert_exporter": "python",
   "pygments_lexer": "ipython3",
   "version": "3.9.7"
  }
 },
 "nbformat": 4,
 "nbformat_minor": 5
}

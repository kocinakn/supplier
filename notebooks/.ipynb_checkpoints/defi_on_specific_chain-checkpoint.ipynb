{
 "cells": [
  {
   "cell_type": "code",
   "execution_count": 1,
   "id": "90f307ed-9367-4b6f-9aca-57a027f9eafc",
   "metadata": {},
   "outputs": [],
   "source": [
    "from myscripts import defi_stats\n",
    "from tools import data_preparation as dp\n",
    "from tools import enumeration\n",
    "\n",
    "import pandas as pd\n",
    "import numpy as np\n",
    "import requests\n",
    "import datetime\n",
    "import os\n",
    "import sys\n",
    "\n",
    "import warnings\n",
    "warnings.filterwarnings(\"ignore\")\n",
    "pd.set_option('display.max_columns', None)"
   ]
  },
  {
   "cell_type": "code",
   "execution_count": 3,
   "id": "63f7f8b2-6379-4e0d-b0a0-42c3bc50c27b",
   "metadata": {},
   "outputs": [
    {
     "ename": "TypeError",
     "evalue": "__init__() got an unexpected keyword argument 'save_in_db'",
     "output_type": "error",
     "traceback": [
      "\u001b[1;31m---------------------------------------------------------------------------\u001b[0m",
      "\u001b[1;31mTypeError\u001b[0m                                 Traceback (most recent call last)",
      "\u001b[1;32m~\\AppData\\Local\\Temp/ipykernel_1436/1851658451.py\u001b[0m in \u001b[0;36m<module>\u001b[1;34m\u001b[0m\n\u001b[1;32m----> 1\u001b[1;33m \u001b[0mdf\u001b[0m \u001b[1;33m=\u001b[0m \u001b[0mdefi_stats\u001b[0m\u001b[1;33m.\u001b[0m\u001b[0mDefiOnGivenChain\u001b[0m\u001b[1;33m(\u001b[0m\u001b[0msave_in_db\u001b[0m\u001b[1;33m=\u001b[0m\u001b[1;32mFalse\u001b[0m\u001b[1;33m)\u001b[0m\u001b[1;33m.\u001b[0m\u001b[0mstats\u001b[0m \u001b[1;31m# sprawdzić dlaczego nie działa z poprzednim specfic_chain - wyświetla blad z chain_share - że nie istnieje defi_stats 260 wiersz\u001b[0m\u001b[1;33m\u001b[0m\u001b[1;33m\u001b[0m\u001b[0m\n\u001b[0m",
      "\u001b[1;31mTypeError\u001b[0m: __init__() got an unexpected keyword argument 'save_in_db'"
     ]
    }
   ],
   "source": [
    "df = defi_stats.DefiOnGivenChain(save_in_db=False).stats # sprawdzić dlaczego nie działa z poprzednim specfic_chain - wyświetla blad z chain_share - że nie istnieje defi_stats 260 wiersz"
   ]
  },
  {
   "cell_type": "code",
   "execution_count": 3,
   "id": "3b2a5985-ff6d-41b8-9922-565a956f3a6c",
   "metadata": {},
   "outputs": [],
   "source": [
    "#df.sort_values('chain_tvl', ascending=False).reset_index(drop=True).head(10)"
   ]
  }
 ],
 "metadata": {
  "kernelspec": {
   "display_name": "Python 3 (ipykernel)",
   "language": "python",
   "name": "python3"
  },
  "language_info": {
   "codemirror_mode": {
    "name": "ipython",
    "version": 3
   },
   "file_extension": ".py",
   "mimetype": "text/x-python",
   "name": "python",
   "nbconvert_exporter": "python",
   "pygments_lexer": "ipython3",
   "version": "3.9.7"
  },
  "toc-autonumbering": false,
  "toc-showcode": false,
  "toc-showmarkdowntxt": false
 },
 "nbformat": 4,
 "nbformat_minor": 5
}
